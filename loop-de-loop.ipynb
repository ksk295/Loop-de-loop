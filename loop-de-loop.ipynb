{
 "cells": [
  {
   "cell_type": "markdown",
   "id": "a57532ae-cd7d-4b2a-9edb-eb83a8f3a09b",
   "metadata": {},
   "source": [
    "**Content under Creative Commons Attribution license [CC-BY 4.0](LICENSE/CC-BY-4.0.md); Code licensed under [BSD 3-Clause Clear](LICENSE/BSD3CLAUSE.md) © 2024 Jonathan E. Guyer**\n",
    "\n",
    "**Student submissions licensed under [UMD Academic License](LICENSE/UMDACADEMIC.md) © 2024 *YOUR NAME HERE Junbo Hu***"
   ]
  },
  {
   "cell_type": "markdown",
   "id": "2e89d5d8-05cd-48d2-9407-272d31e844ab",
   "metadata": {},
   "source": [
    "# Loop-de-Loop (100 points total)"
   ]
  },
  {
   "cell_type": "markdown",
   "id": "51784a31-98f1-475a-bee6-5ea3b9491d86",
   "metadata": {},
   "source": [
    "Enter your solution in the cell(s) below each question. Use Python variables, loops, and conditional statements as you see fit.\n",
    "\n",
    "**Answer all questions without running the code.**"
   ]
  },
  {
   "cell_type": "markdown",
   "id": "e198eec2-1757-4fc4-a7f2-82d18a5f8ab9",
   "metadata": {},
   "source": [
    "**Q1** (20 points)\n",
    "\n",
    "Given \n",
    "```python\n",
    "list_of_lists = [[ 1,  2,  3,  4],\n",
    "                 [11, 12, 13, 14],\n",
    "                 [21, 22, 23, 24]]\n",
    "\n",
    "c = 2\n",
    "for row in list_of_lists:\n",
    "    number = row[c]\n",
    "    print(number)\n",
    "```\n",
    "\n",
    "What is printed?"
   ]
  },
  {
   "cell_type": "markdown",
   "id": "f042b056-2b20-4a05-9258-f7da6b8b22ec",
   "metadata": {},
   "source": [
    "3 13 23"
   ]
  },
  {
   "cell_type": "markdown",
   "id": "3e903e70-7970-4914-9182-aa8a84e02472",
   "metadata": {},
   "source": [
    "**Q2** (20 points)\n",
    "\n",
    "Given \n",
    "```python\n",
    "list_of_lists = [[ 1,  2,  3,  4],\n",
    "                 [11, 12, 13, 14],\n",
    "                 [21, 22, 23, 24]]\n",
    "\n",
    "r = 2\n",
    "for col in list_of_lists[r]:\n",
    "    number = col\n",
    "    print(number)\n",
    "```\n",
    "\n",
    "What is printed?"
   ]
  },
  {
   "cell_type": "markdown",
   "id": "2d2f785f-7839-4369-905c-e5e3510aa049",
   "metadata": {},
   "source": [
    "21 22 23 24"
   ]
  },
  {
   "cell_type": "markdown",
   "id": "eea94f25-547d-408a-9515-f01a97cfbca2",
   "metadata": {},
   "source": [
    "**Q3** (20 points)\n",
    "\n",
    "Given \n",
    "```python\n",
    "list_of_lists = [[ 1,  2,  3,  4],\n",
    "                 [11, 12, 13, 14],\n",
    "                 [21, 22, 23, 24]]\n",
    "\n",
    "sumlist = []\n",
    "c = 0\n",
    "for row in list_of_lists:\n",
    "    m = -1\n",
    "    number = row[c]\n",
    "    if number > m:\n",
    "        m = number\n",
    "    \n",
    "    c = c+1\n",
    "        \n",
    "    sumlist.append(m)\n",
    "```\n",
    "\n",
    "fill out the table with the *value* of `c`, `row`, `number`, `m`, and `sumlist` at the *end* of each iteration through the loop. Add rows to the table as necessary."
   ]
  },
  {
   "cell_type": "markdown",
   "id": "fd463566-f49a-4062-96a6-555cb882f5a6",
   "metadata": {},
   "source": [
    "|  c  |     row     | number |  m  |    sumlist    |\n",
    "|-1|---[1,2,3,4]-------|---1-----|---1--|------[1]---------|\n",
    "|  2   |    [11, 12, 13, 14]    12     |   12     |  [1, 12]   |               |\n",
    "|  3   |    [21, 22, 23, 24]    24     |   24    |  [1, 12, 24]   |               |"
   ]
  },
  {
   "cell_type": "markdown",
   "id": "de6f4465-c242-49bd-a8e7-55c8e7e92bd4",
   "metadata": {},
   "source": [
    "**Q4** (20 points)\n",
    "\n",
    "The code in **Q3** runs without errors, but this code does not:\n",
    "```python\n",
    "list_of_lists = [[ 1,  2,  3],\n",
    "                 [11, 12, 13],\n",
    "                 [21, 22, 23],\n",
    "                 [31, 32, 33]]\n",
    "\n",
    "sumlist = []\n",
    "c = 0\n",
    "for row in list_of_lists:\n",
    "    m = -1\n",
    "    number = row[c]\n",
    "    if number > m:\n",
    "        m = number\n",
    "    \n",
    "    c = c+1\n",
    "        \n",
    "    sumlist.append(m)\n",
    "```\n",
    "\n",
    "Why not?"
   ]
  },
  {
   "cell_type": "markdown",
   "id": "de8b0d5a-ea4a-465b-923d-4b3e0fbfc14b",
   "metadata": {},
   "source": [
    "Since there are 4 rows but 3 columns, when it goes to 4th row the length should be 3 while there are only 2(0,1,2)"
   ]
  },
  {
   "cell_type": "markdown",
   "id": "ec4afce3-6e26-45ce-b716-15d1a5512ae7",
   "metadata": {},
   "source": [
    "**Q5** (20 points)\n",
    "\n",
    "Given:\n",
    "```python\n",
    "list_of_lists = [[ 1,  2,  3],\n",
    "                 [11, 12, 13],\n",
    "                 [21, 22, 23],\n",
    "                 [31, 32, 33]]\n",
    "```\n",
    "indicate whether each of the following computes the maximum value for each row. If not, explain why not.\n",
    "\n",
    "**(a)**\n",
    "```python\n",
    "sumlist = []\n",
    "for row in list_of_lists:\n",
    "    m = -1\n",
    "    c = 0\n",
    "    while c < len(row):\n",
    "        number = row[c]\n",
    "        if number > m:\n",
    "            m = number\n",
    "\n",
    "        c = c+1\n",
    "        \n",
    "    sumlist.append(m)\n",
    "```\n",
    "\n",
    "**(b)**\n",
    "```python\n",
    "sumlist = []\n",
    "for row in list_of_lists:\n",
    "    m = -1\n",
    "    for c in range(len(row)):\n",
    "        number = row[c]\n",
    "        if number > m:\n",
    "            m = number\n",
    "        \n",
    "    sumlist.append(m)\n",
    "```\n",
    "\n",
    "**(c)**\n",
    "```python\n",
    "sumlist = []\n",
    "for row in list_of_lists:\n",
    "    m = -1\n",
    "    for number in row:\n",
    "        if number > m:\n",
    "            m = number\n",
    "        \n",
    "    sumlist.append(m)\n",
    "```\n",
    "\n",
    "**(d)**\n",
    "```python\n",
    "r = 0\n",
    "while r < len(list_of_lists):\n",
    "    m = -1\n",
    "    c = 0\n",
    "    while c < len(list_of_lists[r]):\n",
    "        number = list_of_lists[r][c]\n",
    "        if number > m:\n",
    "            m = number\n",
    "\n",
    "        c = c+1\n",
    "        \n",
    "    sumlist.append(m)\n",
    "    \n",
    "    r = r+1\n",
    "```"
   ]
  },
  {
   "cell_type": "markdown",
   "id": "2b14ad3a-de04-42db-8bbc-b3da502cdac1",
   "metadata": {},
   "source": [
    "abc all compute the maximum, d does not since it does not define sumlist(error)"
   ]
  }
 ],
 "metadata": {
  "kernelspec": {
   "display_name": "Python 3 (ipykernel)",
   "language": "python",
   "name": "python3"
  },
  "language_info": {
   "codemirror_mode": {
    "name": "ipython",
    "version": 3
   },
   "file_extension": ".py",
   "mimetype": "text/x-python",
   "name": "python",
   "nbconvert_exporter": "python",
   "pygments_lexer": "ipython3",
   "version": "3.12.5"
  }
 },
 "nbformat": 4,
 "nbformat_minor": 5
}
